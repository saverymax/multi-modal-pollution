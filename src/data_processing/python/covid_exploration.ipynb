{
 "cells": [
  {
   "cell_type": "markdown",
   "id": "14d734db",
   "metadata": {},
   "source": [
    "Quick data exploration and processing prep"
   ]
  },
  {
   "cell_type": "code",
   "execution_count": 1,
   "id": "938b4636",
   "metadata": {},
   "outputs": [],
   "source": [
    "import pandas as pd"
   ]
  },
  {
   "cell_type": "code",
   "execution_count": 2,
   "id": "5696e157",
   "metadata": {},
   "outputs": [],
   "source": [
    "sheet_names = ['CASES_MUNI']\n",
    "#sheet_names = ['CASES_MUNI', 'HOSP', 'MORT', 'TESTS', 'VACC']"
   ]
  },
  {
   "cell_type": "code",
   "execution_count": 3,
   "id": "1af33326",
   "metadata": {},
   "outputs": [],
   "source": [
    "#covid_df = pd.read_excel(\"../data/covid/COVID19BE.xlsx\", sheet_name='HOSP')\n",
    "covid_df = pd.read_excel(\"../data/covid/COVID19BE.xlsx\", sheet_name=sheet_names)"
   ]
  },
  {
   "cell_type": "code",
   "execution_count": 4,
   "id": "4627d2f7",
   "metadata": {},
   "outputs": [
    {
     "data": {
      "text/plain": [
       "0         Flanders\n",
       "1         Brussels\n",
       "2         Brussels\n",
       "3         Brussels\n",
       "4         Flanders\n",
       "            ...   \n",
       "184758    Wallonia\n",
       "184759    Flanders\n",
       "184760    Wallonia\n",
       "184761    Wallonia\n",
       "184762         NaN\n",
       "Name: REGION, Length: 184763, dtype: object"
      ]
     },
     "execution_count": 4,
     "metadata": {},
     "output_type": "execute_result"
    }
   ],
   "source": [
    "covid_df['CASES_MUNI']['REGION']"
   ]
  },
  {
   "cell_type": "code",
   "execution_count": 5,
   "id": "e5b6bffa",
   "metadata": {},
   "outputs": [],
   "source": [
    "def process_cases(df):\n",
    "    \"\"\"\n",
    "    Process case data\n",
    "\n",
    "    Have to deal with multiple arrondissement in Brx\n",
    "    \"\"\"\n",
    "    processed_df = df[['DATE', 'CASES']]\n",
    "    processed_df['CASES'].replace('<5', '4')\n",
    "    process_df = processed_df.groupby(['DATE']).mean()\n",
    "    return processed_df"
   ]
  },
  {
   "cell_type": "code",
   "execution_count": 12,
   "id": "c77f0349",
   "metadata": {},
   "outputs": [
    {
     "name": "stdout",
     "output_type": "stream",
     "text": [
      "9395\n",
      "{'sheet':              DATE CASES\n",
      "1      2020-03-01    <5\n",
      "2      2020-03-01    <5\n",
      "3      2020-03-01    <5\n",
      "15     2020-03-02    <5\n",
      "16     2020-03-02    <5\n",
      "...           ...   ...\n",
      "184704        NaT    <5\n",
      "184705        NaT    <5\n",
      "184706        NaT    <5\n",
      "184707        NaT    <5\n",
      "184708        NaT    <5\n",
      "\n",
      "[9395 rows x 2 columns]}\n"
     ]
    }
   ],
   "source": [
    "# Create empty dict for each processed dataset of each variable, to be merged\n",
    "processed_dfs = {}\n",
    "min_date = \"2020-03-01\"\n",
    "for sheet in sheet_names:\n",
    "    # Region or province doesn't matter for Brx,\n",
    "    brx_subset = covid_df[sheet].loc[covid_df[sheet]['REGION'] == \"Brussels\"]\n",
    "    print(len(brx_subset['DATE']))\n",
    "    if sheet == 'CASES_MUNI':\n",
    "        processed_dfs['sheet'] = process_cases(brx_subset)\n",
    "print(processed_dfs)\n"
   ]
  }
 ],
 "metadata": {
  "kernelspec": {
   "display_name": "Python [conda env:sentinel_env] *",
   "language": "python",
   "name": "conda-env-sentinel_env-py"
  },
  "language_info": {
   "codemirror_mode": {
    "name": "ipython",
    "version": 3
   },
   "file_extension": ".py",
   "mimetype": "text/x-python",
   "name": "python",
   "nbconvert_exporter": "python",
   "pygments_lexer": "ipython3",
   "version": "3.7.10"
  }
 },
 "nbformat": 4,
 "nbformat_minor": 5
}
